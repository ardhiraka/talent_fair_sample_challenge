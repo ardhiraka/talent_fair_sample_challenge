{
 "cells": [
  {
   "cell_type": "markdown",
   "metadata": {},
   "source": [
    "# Data Sneak"
   ]
  },
  {
   "cell_type": "code",
   "execution_count": 1,
   "metadata": {},
   "outputs": [],
   "source": [
    "import pandas as pd"
   ]
  },
  {
   "cell_type": "markdown",
   "metadata": {},
   "source": [
    "## Data 1"
   ]
  },
  {
   "cell_type": "code",
   "execution_count": 2,
   "metadata": {},
   "outputs": [
    {
     "data": {
      "text/html": [
       "<div>\n",
       "<style scoped>\n",
       "    .dataframe tbody tr th:only-of-type {\n",
       "        vertical-align: middle;\n",
       "    }\n",
       "\n",
       "    .dataframe tbody tr th {\n",
       "        vertical-align: top;\n",
       "    }\n",
       "\n",
       "    .dataframe thead th {\n",
       "        text-align: right;\n",
       "    }\n",
       "</style>\n",
       "<table border=\"1\" class=\"dataframe\">\n",
       "  <thead>\n",
       "    <tr style=\"text-align: right;\">\n",
       "      <th></th>\n",
       "      <th>week_number</th>\n",
       "      <th>week_start_date</th>\n",
       "      <th>week_end_date</th>\n",
       "      <th>product_item</th>\n",
       "      <th>quantity</th>\n",
       "    </tr>\n",
       "  </thead>\n",
       "  <tbody>\n",
       "    <tr>\n",
       "      <th>0</th>\n",
       "      <td>2021-52</td>\n",
       "      <td>2021-12-27</td>\n",
       "      <td>2022-01-02</td>\n",
       "      <td>0073377087c7ddace313ff829cd7b0b3</td>\n",
       "      <td>41</td>\n",
       "    </tr>\n",
       "    <tr>\n",
       "      <th>1</th>\n",
       "      <td>2021-52</td>\n",
       "      <td>2021-12-27</td>\n",
       "      <td>2022-01-02</td>\n",
       "      <td>012d2bb142b2d5e57330acbfd8e9ac52</td>\n",
       "      <td>430</td>\n",
       "    </tr>\n",
       "    <tr>\n",
       "      <th>2</th>\n",
       "      <td>2021-52</td>\n",
       "      <td>2021-12-27</td>\n",
       "      <td>2022-01-02</td>\n",
       "      <td>0192926e33d1153b63511a5b83eca843</td>\n",
       "      <td>4</td>\n",
       "    </tr>\n",
       "    <tr>\n",
       "      <th>3</th>\n",
       "      <td>2021-52</td>\n",
       "      <td>2021-12-27</td>\n",
       "      <td>2022-01-02</td>\n",
       "      <td>019502f6d13e383caa9b9673bf1302f8</td>\n",
       "      <td>148</td>\n",
       "    </tr>\n",
       "    <tr>\n",
       "      <th>4</th>\n",
       "      <td>2021-52</td>\n",
       "      <td>2021-12-27</td>\n",
       "      <td>2022-01-02</td>\n",
       "      <td>01e7ca6d4e21badc1d4225b6b2c7bd9e</td>\n",
       "      <td>119</td>\n",
       "    </tr>\n",
       "  </tbody>\n",
       "</table>\n",
       "</div>"
      ],
      "text/plain": [
       "  week_number week_start_date week_end_date                      product_item  \\\n",
       "0     2021-52      2021-12-27    2022-01-02  0073377087c7ddace313ff829cd7b0b3   \n",
       "1     2021-52      2021-12-27    2022-01-02  012d2bb142b2d5e57330acbfd8e9ac52   \n",
       "2     2021-52      2021-12-27    2022-01-02  0192926e33d1153b63511a5b83eca843   \n",
       "3     2021-52      2021-12-27    2022-01-02  019502f6d13e383caa9b9673bf1302f8   \n",
       "4     2021-52      2021-12-27    2022-01-02  01e7ca6d4e21badc1d4225b6b2c7bd9e   \n",
       "\n",
       "   quantity  \n",
       "0        41  \n",
       "1       430  \n",
       "2         4  \n",
       "3       148  \n",
       "4       119  "
      ]
     },
     "execution_count": 2,
     "metadata": {},
     "output_type": "execute_result"
    }
   ],
   "source": [
    "df1 = pd.read_csv('datasets/sample_dataset_timeseries_noarea.csv')\n",
    "df1.head()"
   ]
  },
  {
   "cell_type": "code",
   "execution_count": 3,
   "metadata": {},
   "outputs": [
    {
     "data": {
      "text/html": [
       "<div>\n",
       "<style scoped>\n",
       "    .dataframe tbody tr th:only-of-type {\n",
       "        vertical-align: middle;\n",
       "    }\n",
       "\n",
       "    .dataframe tbody tr th {\n",
       "        vertical-align: top;\n",
       "    }\n",
       "\n",
       "    .dataframe thead th {\n",
       "        text-align: right;\n",
       "    }\n",
       "</style>\n",
       "<table border=\"1\" class=\"dataframe\">\n",
       "  <thead>\n",
       "    <tr style=\"text-align: right;\">\n",
       "      <th></th>\n",
       "      <th>week_number</th>\n",
       "      <th>week_start_date</th>\n",
       "      <th>week_end_date</th>\n",
       "      <th>product_item</th>\n",
       "      <th>quantity</th>\n",
       "    </tr>\n",
       "  </thead>\n",
       "  <tbody>\n",
       "    <tr>\n",
       "      <th>102728</th>\n",
       "      <td>2023-14</td>\n",
       "      <td>2023-04-03</td>\n",
       "      <td>2023-04-09</td>\n",
       "      <td>ff3890faa80ff425ae906e27bbc50bc6</td>\n",
       "      <td>907</td>\n",
       "    </tr>\n",
       "    <tr>\n",
       "      <th>102729</th>\n",
       "      <td>2023-14</td>\n",
       "      <td>2023-04-03</td>\n",
       "      <td>2023-04-09</td>\n",
       "      <td>ff4b0f3b9c78c91510a4e3920fbc5090</td>\n",
       "      <td>81</td>\n",
       "    </tr>\n",
       "    <tr>\n",
       "      <th>102730</th>\n",
       "      <td>2023-14</td>\n",
       "      <td>2023-04-03</td>\n",
       "      <td>2023-04-09</td>\n",
       "      <td>ff9d05a4d6f922b3ab1653f58165b8ce</td>\n",
       "      <td>16</td>\n",
       "    </tr>\n",
       "    <tr>\n",
       "      <th>102731</th>\n",
       "      <td>2023-14</td>\n",
       "      <td>2023-04-03</td>\n",
       "      <td>2023-04-09</td>\n",
       "      <td>ffbd6f1d884056a4f622d54ae79e5a14</td>\n",
       "      <td>42920</td>\n",
       "    </tr>\n",
       "    <tr>\n",
       "      <th>102732</th>\n",
       "      <td>2023-14</td>\n",
       "      <td>2023-04-03</td>\n",
       "      <td>2023-04-09</td>\n",
       "      <td>fff18f7c705e729746515e2053dee64b</td>\n",
       "      <td>53</td>\n",
       "    </tr>\n",
       "  </tbody>\n",
       "</table>\n",
       "</div>"
      ],
      "text/plain": [
       "       week_number week_start_date week_end_date  \\\n",
       "102728     2023-14      2023-04-03    2023-04-09   \n",
       "102729     2023-14      2023-04-03    2023-04-09   \n",
       "102730     2023-14      2023-04-03    2023-04-09   \n",
       "102731     2023-14      2023-04-03    2023-04-09   \n",
       "102732     2023-14      2023-04-03    2023-04-09   \n",
       "\n",
       "                            product_item  quantity  \n",
       "102728  ff3890faa80ff425ae906e27bbc50bc6       907  \n",
       "102729  ff4b0f3b9c78c91510a4e3920fbc5090        81  \n",
       "102730  ff9d05a4d6f922b3ab1653f58165b8ce        16  \n",
       "102731  ffbd6f1d884056a4f622d54ae79e5a14     42920  \n",
       "102732  fff18f7c705e729746515e2053dee64b        53  "
      ]
     },
     "execution_count": 3,
     "metadata": {},
     "output_type": "execute_result"
    }
   ],
   "source": [
    "df1.tail()"
   ]
  },
  {
   "cell_type": "code",
   "execution_count": 4,
   "metadata": {},
   "outputs": [
    {
     "name": "stdout",
     "output_type": "stream",
     "text": [
      "<class 'pandas.core.frame.DataFrame'>\n",
      "RangeIndex: 102733 entries, 0 to 102732\n",
      "Data columns (total 5 columns):\n",
      " #   Column           Non-Null Count   Dtype \n",
      "---  ------           --------------   ----- \n",
      " 0   week_number      102733 non-null  object\n",
      " 1   week_start_date  102733 non-null  object\n",
      " 2   week_end_date    102733 non-null  object\n",
      " 3   product_item     102731 non-null  object\n",
      " 4   quantity         102733 non-null  int64 \n",
      "dtypes: int64(1), object(4)\n",
      "memory usage: 3.9+ MB\n"
     ]
    }
   ],
   "source": [
    "df1.info()"
   ]
  }
 ],
 "metadata": {
  "kernelspec": {
   "display_name": "Python 3",
   "language": "python",
   "name": "python3"
  },
  "language_info": {
   "codemirror_mode": {
    "name": "ipython",
    "version": 3
   },
   "file_extension": ".py",
   "mimetype": "text/x-python",
   "name": "python",
   "nbconvert_exporter": "python",
   "pygments_lexer": "ipython3",
   "version": "3.8.5"
  },
  "vscode": {
   "interpreter": {
    "hash": "8c71de309b4b963849dcdea67a8393813ff3e099e0aa7ae42184ea5b035dde7e"
   }
  }
 },
 "nbformat": 4,
 "nbformat_minor": 2
}
